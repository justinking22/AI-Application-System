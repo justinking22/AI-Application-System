{
  "nbformat": 4,
  "nbformat_minor": 0,
  "metadata": {
    "colab": {
      "provenance": [],
      "authorship_tag": "ABX9TyO4DKSQI7Ksa6ZQhvD8fDXD",
      "include_colab_link": true
    },
    "kernelspec": {
      "name": "python3",
      "display_name": "Python 3"
    },
    "language_info": {
      "name": "python"
    }
  },
  "cells": [
    {
      "cell_type": "markdown",
      "metadata": {
        "id": "view-in-github",
        "colab_type": "text"
      },
      "source": [
        "<a href=\"https://colab.research.google.com/github/justinking22/AI-Application-System/blob/main/Week5.ipynb\" target=\"_parent\"><img src=\"https://colab.research.google.com/assets/colab-badge.svg\" alt=\"Open In Colab\"/></a>"
      ]
    },
    {
      "cell_type": "code",
      "source": [
        "pip install tensorflow==1.15.5"
      ],
      "metadata": {
        "colab": {
          "base_uri": "https://localhost:8080/"
        },
        "id": "d0HuQSWHxfwm",
        "outputId": "c5c4bae0-f33f-441e-e946-fffbd4ec21eb"
      },
      "execution_count": 8,
      "outputs": [
        {
          "output_type": "stream",
          "name": "stdout",
          "text": [
            "Looking in indexes: https://pypi.org/simple, https://us-python.pkg.dev/colab-wheels/public/simple/\n",
            "Requirement already satisfied: tensorflow==1.15.5 in /usr/local/lib/python3.7/dist-packages (1.15.5)\n",
            "Requirement already satisfied: protobuf>=3.6.1 in /usr/local/lib/python3.7/dist-packages (from tensorflow==1.15.5) (3.17.3)\n",
            "Requirement already satisfied: tensorboard<1.16.0,>=1.15.0 in /usr/local/lib/python3.7/dist-packages (from tensorflow==1.15.5) (1.15.0)\n",
            "Requirement already satisfied: termcolor>=1.1.0 in /usr/local/lib/python3.7/dist-packages (from tensorflow==1.15.5) (2.0.1)\n",
            "Requirement already satisfied: numpy<1.19.0,>=1.16.0 in /usr/local/lib/python3.7/dist-packages (from tensorflow==1.15.5) (1.18.5)\n",
            "Requirement already satisfied: google-pasta>=0.1.6 in /usr/local/lib/python3.7/dist-packages (from tensorflow==1.15.5) (0.2.0)\n",
            "Requirement already satisfied: absl-py>=0.7.0 in /usr/local/lib/python3.7/dist-packages (from tensorflow==1.15.5) (1.3.0)\n",
            "Requirement already satisfied: h5py<=2.10.0 in /usr/local/lib/python3.7/dist-packages (from tensorflow==1.15.5) (2.10.0)\n",
            "Requirement already satisfied: wrapt>=1.11.1 in /usr/local/lib/python3.7/dist-packages (from tensorflow==1.15.5) (1.14.1)\n",
            "Requirement already satisfied: grpcio>=1.8.6 in /usr/local/lib/python3.7/dist-packages (from tensorflow==1.15.5) (1.49.1)\n",
            "Requirement already satisfied: six>=1.10.0 in /usr/local/lib/python3.7/dist-packages (from tensorflow==1.15.5) (1.15.0)\n",
            "Requirement already satisfied: keras-preprocessing>=1.0.5 in /usr/local/lib/python3.7/dist-packages (from tensorflow==1.15.5) (1.1.2)\n",
            "Requirement already satisfied: opt-einsum>=2.3.2 in /usr/local/lib/python3.7/dist-packages (from tensorflow==1.15.5) (3.3.0)\n",
            "Requirement already satisfied: gast==0.2.2 in /usr/local/lib/python3.7/dist-packages (from tensorflow==1.15.5) (0.2.2)\n",
            "Requirement already satisfied: tensorflow-estimator==1.15.1 in /usr/local/lib/python3.7/dist-packages (from tensorflow==1.15.5) (1.15.1)\n",
            "Requirement already satisfied: astor>=0.6.0 in /usr/local/lib/python3.7/dist-packages (from tensorflow==1.15.5) (0.8.1)\n",
            "Requirement already satisfied: keras-applications>=1.0.8 in /usr/local/lib/python3.7/dist-packages (from tensorflow==1.15.5) (1.0.8)\n",
            "Requirement already satisfied: wheel>=0.26 in /usr/local/lib/python3.7/dist-packages (from tensorflow==1.15.5) (0.37.1)\n",
            "Requirement already satisfied: markdown>=2.6.8 in /usr/local/lib/python3.7/dist-packages (from tensorboard<1.16.0,>=1.15.0->tensorflow==1.15.5) (3.4.1)\n",
            "Requirement already satisfied: setuptools>=41.0.0 in /usr/local/lib/python3.7/dist-packages (from tensorboard<1.16.0,>=1.15.0->tensorflow==1.15.5) (57.4.0)\n",
            "Requirement already satisfied: werkzeug>=0.11.15 in /usr/local/lib/python3.7/dist-packages (from tensorboard<1.16.0,>=1.15.0->tensorflow==1.15.5) (1.0.1)\n",
            "Requirement already satisfied: importlib-metadata>=4.4 in /usr/local/lib/python3.7/dist-packages (from markdown>=2.6.8->tensorboard<1.16.0,>=1.15.0->tensorflow==1.15.5) (4.13.0)\n",
            "Requirement already satisfied: zipp>=0.5 in /usr/local/lib/python3.7/dist-packages (from importlib-metadata>=4.4->markdown>=2.6.8->tensorboard<1.16.0,>=1.15.0->tensorflow==1.15.5) (3.9.0)\n",
            "Requirement already satisfied: typing-extensions>=3.6.4 in /usr/local/lib/python3.7/dist-packages (from importlib-metadata>=4.4->markdown>=2.6.8->tensorboard<1.16.0,>=1.15.0->tensorflow==1.15.5) (4.1.1)\n"
          ]
        }
      ]
    },
    {
      "cell_type": "code",
      "execution_count": 9,
      "metadata": {
        "colab": {
          "base_uri": "https://localhost:8080/"
        },
        "id": "H-XGZ9bZTgX2",
        "outputId": "fb1744b7-5698-4fe0-aeca-90b19d39aafb"
      },
      "outputs": [
        {
          "output_type": "stream",
          "name": "stdout",
          "text": [
            "0\n",
            "1\n",
            "2\n",
            "3\n"
          ]
        }
      ],
      "source": [
        "import numpy as np\n",
        "import tensorflow as tf \n",
        "with tf.compat.v1.Session() as sess:\n",
        "  a = tf.Variable(0, name = 'input')\n",
        "  b = tf.constant(1)\n",
        "\n",
        "  mid = tf.add(a,b)\n",
        "  final = tf.compat.v1.assign(a, mid)\n",
        "\n",
        "\n",
        "  var = tf.compat.v1.initialize_all_variables()\n",
        "  sess.run(var)\n",
        "  print(sess.run(a))\n",
        "  for i in range(3):\n",
        "    sess.run(final)\n",
        "    print(sess.run(a))\n"
      ]
    },
    {
      "cell_type": "code",
      "source": [
        "import numpy as np\n",
        "import tensorflow as tf \n",
        "with tf.compat.v1.Session() as sess:\n",
        "  a = tf.constant(3)\n",
        "  b = tf.constant(5)\n",
        "  c = a + b\n",
        "  print(sess.run(c))"
      ],
      "metadata": {
        "colab": {
          "base_uri": "https://localhost:8080/"
        },
        "id": "l3A805u8U2pF",
        "outputId": "902cfeec-b244-411c-d6a8-360e3eb7ccc3"
      },
      "execution_count": 10,
      "outputs": [
        {
          "output_type": "stream",
          "name": "stdout",
          "text": [
            "8\n"
          ]
        }
      ]
    },
    {
      "cell_type": "code",
      "source": [
        "tf.compat.v1.disable_eager_execution()\n",
        "x = tf.compat.v1.placeholder(\"float32\", None)\n",
        "y = x**2\n",
        "with tf.compat.v1.Session() as sess:\n",
        "  result = sess.run(y, feed_dict = {x: [1,2,3]})\n",
        "  print(result)"
      ],
      "metadata": {
        "colab": {
          "base_uri": "https://localhost:8080/"
        },
        "id": "yLUS1BKyVSzA",
        "outputId": "c05c2d9f-4cc9-40a3-e344-08fb14c6cf1a"
      },
      "execution_count": 11,
      "outputs": [
        {
          "output_type": "stream",
          "name": "stdout",
          "text": [
            "[1. 4. 9.]\n"
          ]
        }
      ]
    },
    {
      "cell_type": "code",
      "source": [
        "import tensorflow as tf\n",
        "a = tf.add(1,2, name = \"addition_1\")\n",
        "b = tf.multiply(a,3, name = \"multiplying_1\")\n",
        "c = tf.add(4,5, name = \"addition_2\")\n",
        "d = tf.multiply(c,6, name = \"multiplying_2\")\n",
        "e = tf.multiply(4,5)\n",
        "f = tf.divide(c,6, name = \"division\")\n",
        "\n",
        "g = tf.add(b,d)\n",
        "h = tf.multiply(g,f)\n",
        "\n",
        "with tf.compat.v1.Session() as sess:\n",
        "  writer = tf.summary.FileWriter(\"./logs\", sess.graph)\n",
        "  print(sess.run(h))\n",
        "  writer.close()"
      ],
      "metadata": {
        "id": "hw8gIUyQWCJU",
        "colab": {
          "base_uri": "https://localhost:8080/"
        },
        "outputId": "5c2aaf71-caa7-4f2b-ee4e-3c491d030d24"
      },
      "execution_count": 12,
      "outputs": [
        {
          "output_type": "stream",
          "name": "stdout",
          "text": [
            "63\n"
          ]
        }
      ]
    },
    {
      "cell_type": "code",
      "source": [
        "import tensorflow as tf  \n",
        "tf.reset_default_graph()\n",
        "s_scalar = tf.get_variable(name = 'x_scalar', shape = [], initializer=tf.truncated_normal_initializer(mean=0, stddev=1))\n",
        "first_summary = tf.summary.scalar(name = 'First_summary', tensor = s_scalar)\n",
        "init = tf.global_variables_initializer()\n",
        "with tf.Session() as sess:\n",
        "  writer = tf.summary.FileWriter('./logs',sess. graph)\n",
        "\n",
        "  for i in range(100):\n",
        "    sess.run(init)\n",
        "    summary = sess.run(first_summary)\n",
        "    writer.add_summary(summary, i)"
      ],
      "metadata": {
        "id": "9hc3Q6KcyQbO"
      },
      "execution_count": 14,
      "outputs": []
    },
    {
      "cell_type": "code",
      "source": [
        "import tensorflow as tf \n",
        "tf.reset_default_graph()\n",
        "s_scalar = tf.get_variable(name = 's_scalar', shape =[], initializer = tf.truncated_normal_initializer(mean = 0, stddev = 1))\n",
        "y_matrix = tf.get_variable(name = 'y_matrix', shape = [40,50], initializer = tf.truncated_normal_initializer(mean = 0, stddev = 1))\n",
        "#A scalar summary for scalar tensor\n",
        "first_summary = tf.summary.scalar(name = 'First_summary', tensor = s_scalar)\n",
        "\n",
        "#A histogram summary for non-scalar tgensor 2D or 3D matrix\n",
        "histogram_summary = tf.summary.histogram('histogram_summary', y_matrix)\n",
        "\n",
        "init = tf.global_variables_initializer()\n",
        "with tf.Session() as sess:\n",
        "  writer = tf.summary.FileWriter('./logs', sess.graph)\n",
        "\n",
        "\n",
        "  for i in range(100):\n",
        "    sess.run(init)\n",
        "    summary1, summary2 = sess.run([first_summary, histogram_summary])\n",
        "    writer.add_summary(summary1, i)\n",
        "    writer.add_summary(summary2, i)"
      ],
      "metadata": {
        "id": "JAxF4oKq-gNX"
      },
      "execution_count": 15,
      "outputs": []
    }
  ]
}