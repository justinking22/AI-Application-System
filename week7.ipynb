{
  "nbformat": 4,
  "nbformat_minor": 0,
  "metadata": {
    "colab": {
      "provenance": [],
      "authorship_tag": "ABX9TyM630bukrKht28ut3zFJjjK",
      "include_colab_link": true
    },
    "kernelspec": {
      "name": "python3",
      "display_name": "Python 3"
    },
    "language_info": {
      "name": "python"
    },
    "widgets": {
      "application/vnd.jupyter.widget-state+json": {
        "46e0ddbdcdde4574b468dca90f377bc1": {
          "model_module": "@jupyter-widgets/controls",
          "model_name": "HBoxModel",
          "model_module_version": "1.5.0",
          "state": {
            "_dom_classes": [],
            "_model_module": "@jupyter-widgets/controls",
            "_model_module_version": "1.5.0",
            "_model_name": "HBoxModel",
            "_view_count": null,
            "_view_module": "@jupyter-widgets/controls",
            "_view_module_version": "1.5.0",
            "_view_name": "HBoxView",
            "box_style": "",
            "children": [
              "IPY_MODEL_aa1112287d99442a865b17adf6dd3bef",
              "IPY_MODEL_f03e8e3fc3884ec2947d5171b523e5b0",
              "IPY_MODEL_0d1a52448cfb4cabba45c4fc3a53107f"
            ],
            "layout": "IPY_MODEL_f61b9192e1ea4b35a8eb835c9062f000"
          }
        },
        "aa1112287d99442a865b17adf6dd3bef": {
          "model_module": "@jupyter-widgets/controls",
          "model_name": "HTMLModel",
          "model_module_version": "1.5.0",
          "state": {
            "_dom_classes": [],
            "_model_module": "@jupyter-widgets/controls",
            "_model_module_version": "1.5.0",
            "_model_name": "HTMLModel",
            "_view_count": null,
            "_view_module": "@jupyter-widgets/controls",
            "_view_module_version": "1.5.0",
            "_view_name": "HTMLView",
            "description": "",
            "description_tooltip": null,
            "layout": "IPY_MODEL_d0426f570e6b4581bb42d8bdfa2a459c",
            "placeholder": "​",
            "style": "IPY_MODEL_609d589411294965bafe659d49cf4298",
            "value": "100%"
          }
        },
        "f03e8e3fc3884ec2947d5171b523e5b0": {
          "model_module": "@jupyter-widgets/controls",
          "model_name": "FloatProgressModel",
          "model_module_version": "1.5.0",
          "state": {
            "_dom_classes": [],
            "_model_module": "@jupyter-widgets/controls",
            "_model_module_version": "1.5.0",
            "_model_name": "FloatProgressModel",
            "_view_count": null,
            "_view_module": "@jupyter-widgets/controls",
            "_view_module_version": "1.5.0",
            "_view_name": "ProgressView",
            "bar_style": "success",
            "description": "",
            "description_tooltip": null,
            "layout": "IPY_MODEL_7c6245ee43954ae9a3732f057abd1551",
            "max": 170498071,
            "min": 0,
            "orientation": "horizontal",
            "style": "IPY_MODEL_a7ad880c6af347aeb7c1d19c51864e8f",
            "value": 170498071
          }
        },
        "0d1a52448cfb4cabba45c4fc3a53107f": {
          "model_module": "@jupyter-widgets/controls",
          "model_name": "HTMLModel",
          "model_module_version": "1.5.0",
          "state": {
            "_dom_classes": [],
            "_model_module": "@jupyter-widgets/controls",
            "_model_module_version": "1.5.0",
            "_model_name": "HTMLModel",
            "_view_count": null,
            "_view_module": "@jupyter-widgets/controls",
            "_view_module_version": "1.5.0",
            "_view_name": "HTMLView",
            "description": "",
            "description_tooltip": null,
            "layout": "IPY_MODEL_7e82200f0b354e25bc1e42a375670b8d",
            "placeholder": "​",
            "style": "IPY_MODEL_2c7628147f7740038dc32a80118df2b1",
            "value": " 170498071/170498071 [00:11&lt;00:00, 17055387.33it/s]"
          }
        },
        "f61b9192e1ea4b35a8eb835c9062f000": {
          "model_module": "@jupyter-widgets/base",
          "model_name": "LayoutModel",
          "model_module_version": "1.2.0",
          "state": {
            "_model_module": "@jupyter-widgets/base",
            "_model_module_version": "1.2.0",
            "_model_name": "LayoutModel",
            "_view_count": null,
            "_view_module": "@jupyter-widgets/base",
            "_view_module_version": "1.2.0",
            "_view_name": "LayoutView",
            "align_content": null,
            "align_items": null,
            "align_self": null,
            "border": null,
            "bottom": null,
            "display": null,
            "flex": null,
            "flex_flow": null,
            "grid_area": null,
            "grid_auto_columns": null,
            "grid_auto_flow": null,
            "grid_auto_rows": null,
            "grid_column": null,
            "grid_gap": null,
            "grid_row": null,
            "grid_template_areas": null,
            "grid_template_columns": null,
            "grid_template_rows": null,
            "height": null,
            "justify_content": null,
            "justify_items": null,
            "left": null,
            "margin": null,
            "max_height": null,
            "max_width": null,
            "min_height": null,
            "min_width": null,
            "object_fit": null,
            "object_position": null,
            "order": null,
            "overflow": null,
            "overflow_x": null,
            "overflow_y": null,
            "padding": null,
            "right": null,
            "top": null,
            "visibility": null,
            "width": null
          }
        },
        "d0426f570e6b4581bb42d8bdfa2a459c": {
          "model_module": "@jupyter-widgets/base",
          "model_name": "LayoutModel",
          "model_module_version": "1.2.0",
          "state": {
            "_model_module": "@jupyter-widgets/base",
            "_model_module_version": "1.2.0",
            "_model_name": "LayoutModel",
            "_view_count": null,
            "_view_module": "@jupyter-widgets/base",
            "_view_module_version": "1.2.0",
            "_view_name": "LayoutView",
            "align_content": null,
            "align_items": null,
            "align_self": null,
            "border": null,
            "bottom": null,
            "display": null,
            "flex": null,
            "flex_flow": null,
            "grid_area": null,
            "grid_auto_columns": null,
            "grid_auto_flow": null,
            "grid_auto_rows": null,
            "grid_column": null,
            "grid_gap": null,
            "grid_row": null,
            "grid_template_areas": null,
            "grid_template_columns": null,
            "grid_template_rows": null,
            "height": null,
            "justify_content": null,
            "justify_items": null,
            "left": null,
            "margin": null,
            "max_height": null,
            "max_width": null,
            "min_height": null,
            "min_width": null,
            "object_fit": null,
            "object_position": null,
            "order": null,
            "overflow": null,
            "overflow_x": null,
            "overflow_y": null,
            "padding": null,
            "right": null,
            "top": null,
            "visibility": null,
            "width": null
          }
        },
        "609d589411294965bafe659d49cf4298": {
          "model_module": "@jupyter-widgets/controls",
          "model_name": "DescriptionStyleModel",
          "model_module_version": "1.5.0",
          "state": {
            "_model_module": "@jupyter-widgets/controls",
            "_model_module_version": "1.5.0",
            "_model_name": "DescriptionStyleModel",
            "_view_count": null,
            "_view_module": "@jupyter-widgets/base",
            "_view_module_version": "1.2.0",
            "_view_name": "StyleView",
            "description_width": ""
          }
        },
        "7c6245ee43954ae9a3732f057abd1551": {
          "model_module": "@jupyter-widgets/base",
          "model_name": "LayoutModel",
          "model_module_version": "1.2.0",
          "state": {
            "_model_module": "@jupyter-widgets/base",
            "_model_module_version": "1.2.0",
            "_model_name": "LayoutModel",
            "_view_count": null,
            "_view_module": "@jupyter-widgets/base",
            "_view_module_version": "1.2.0",
            "_view_name": "LayoutView",
            "align_content": null,
            "align_items": null,
            "align_self": null,
            "border": null,
            "bottom": null,
            "display": null,
            "flex": null,
            "flex_flow": null,
            "grid_area": null,
            "grid_auto_columns": null,
            "grid_auto_flow": null,
            "grid_auto_rows": null,
            "grid_column": null,
            "grid_gap": null,
            "grid_row": null,
            "grid_template_areas": null,
            "grid_template_columns": null,
            "grid_template_rows": null,
            "height": null,
            "justify_content": null,
            "justify_items": null,
            "left": null,
            "margin": null,
            "max_height": null,
            "max_width": null,
            "min_height": null,
            "min_width": null,
            "object_fit": null,
            "object_position": null,
            "order": null,
            "overflow": null,
            "overflow_x": null,
            "overflow_y": null,
            "padding": null,
            "right": null,
            "top": null,
            "visibility": null,
            "width": null
          }
        },
        "a7ad880c6af347aeb7c1d19c51864e8f": {
          "model_module": "@jupyter-widgets/controls",
          "model_name": "ProgressStyleModel",
          "model_module_version": "1.5.0",
          "state": {
            "_model_module": "@jupyter-widgets/controls",
            "_model_module_version": "1.5.0",
            "_model_name": "ProgressStyleModel",
            "_view_count": null,
            "_view_module": "@jupyter-widgets/base",
            "_view_module_version": "1.2.0",
            "_view_name": "StyleView",
            "bar_color": null,
            "description_width": ""
          }
        },
        "7e82200f0b354e25bc1e42a375670b8d": {
          "model_module": "@jupyter-widgets/base",
          "model_name": "LayoutModel",
          "model_module_version": "1.2.0",
          "state": {
            "_model_module": "@jupyter-widgets/base",
            "_model_module_version": "1.2.0",
            "_model_name": "LayoutModel",
            "_view_count": null,
            "_view_module": "@jupyter-widgets/base",
            "_view_module_version": "1.2.0",
            "_view_name": "LayoutView",
            "align_content": null,
            "align_items": null,
            "align_self": null,
            "border": null,
            "bottom": null,
            "display": null,
            "flex": null,
            "flex_flow": null,
            "grid_area": null,
            "grid_auto_columns": null,
            "grid_auto_flow": null,
            "grid_auto_rows": null,
            "grid_column": null,
            "grid_gap": null,
            "grid_row": null,
            "grid_template_areas": null,
            "grid_template_columns": null,
            "grid_template_rows": null,
            "height": null,
            "justify_content": null,
            "justify_items": null,
            "left": null,
            "margin": null,
            "max_height": null,
            "max_width": null,
            "min_height": null,
            "min_width": null,
            "object_fit": null,
            "object_position": null,
            "order": null,
            "overflow": null,
            "overflow_x": null,
            "overflow_y": null,
            "padding": null,
            "right": null,
            "top": null,
            "visibility": null,
            "width": null
          }
        },
        "2c7628147f7740038dc32a80118df2b1": {
          "model_module": "@jupyter-widgets/controls",
          "model_name": "DescriptionStyleModel",
          "model_module_version": "1.5.0",
          "state": {
            "_model_module": "@jupyter-widgets/controls",
            "_model_module_version": "1.5.0",
            "_model_name": "DescriptionStyleModel",
            "_view_count": null,
            "_view_module": "@jupyter-widgets/base",
            "_view_module_version": "1.2.0",
            "_view_name": "StyleView",
            "description_width": ""
          }
        }
      }
    }
  },
  "cells": [
    {
      "cell_type": "markdown",
      "metadata": {
        "id": "view-in-github",
        "colab_type": "text"
      },
      "source": [
        "<a href=\"https://colab.research.google.com/github/justinking22/AI-Application-System/blob/main/week7.ipynb\" target=\"_parent\"><img src=\"https://colab.research.google.com/assets/colab-badge.svg\" alt=\"Open In Colab\"/></a>"
      ]
    },
    {
      "cell_type": "code",
      "execution_count": 5,
      "metadata": {
        "colab": {
          "base_uri": "https://localhost:8080/",
          "height": 85,
          "referenced_widgets": [
            "46e0ddbdcdde4574b468dca90f377bc1",
            "aa1112287d99442a865b17adf6dd3bef",
            "f03e8e3fc3884ec2947d5171b523e5b0",
            "0d1a52448cfb4cabba45c4fc3a53107f",
            "f61b9192e1ea4b35a8eb835c9062f000",
            "d0426f570e6b4581bb42d8bdfa2a459c",
            "609d589411294965bafe659d49cf4298",
            "7c6245ee43954ae9a3732f057abd1551",
            "a7ad880c6af347aeb7c1d19c51864e8f",
            "7e82200f0b354e25bc1e42a375670b8d",
            "2c7628147f7740038dc32a80118df2b1"
          ]
        },
        "id": "Akvk9067drC1",
        "outputId": "b0c5a983-dcbb-4535-9aab-6fd9c7a72f6a"
      },
      "outputs": [
        {
          "output_type": "stream",
          "name": "stdout",
          "text": [
            "Downloading https://www.cs.toronto.edu/~kriz/cifar-10-python.tar.gz to . /pt_data/cifar-10-python.tar.gz\n"
          ]
        },
        {
          "output_type": "display_data",
          "data": {
            "text/plain": [
              "  0%|          | 0/170498071 [00:00<?, ?it/s]"
            ],
            "application/vnd.jupyter.widget-view+json": {
              "version_major": 2,
              "version_minor": 0,
              "model_id": "46e0ddbdcdde4574b468dca90f377bc1"
            }
          },
          "metadata": {}
        },
        {
          "output_type": "stream",
          "name": "stdout",
          "text": [
            "Extracting . /pt_data/cifar-10-python.tar.gz to . /pt_data\n"
          ]
        }
      ],
      "source": [
        "import torchvision\n",
        "import torchvision.transforms as transforms\n",
        "from torchvision.datasets import CIFAR10\n",
        "from torch.utils.data import DataLoader\n",
        "import numpy as np\n",
        "import matplotlib.pyplot as plt\n",
        "\n",
        "#Load training dataset into a single batch.\n",
        "transform = transforms.Compose([transforms.ToTensor()])\n",
        "trainset = CIFAR10 (root='. /pt_data', train=True, download=True, transform=transform)\n",
        "trainloader = DataLoader (trainset, batch_size=len(trainset), shuffle=False)\n",
        "data = next(iter (trainloader))"
      ]
    },
    {
      "cell_type": "code",
      "source": [
        "# Convert to numpy arrays of correct shape for plotting.\n",
        "train_images = data[0].numpy()\n",
        "train_images = np.moveaxis (train_images, 1, 3)\n",
        "train_labels = data[1]. numpy()"
      ],
      "metadata": {
        "id": "8p13rmBkfTGE"
      },
      "execution_count": 8,
      "outputs": []
    },
    {
      "cell_type": "code",
      "source": [
        "print('Category:', train_labels[100])\n",
        "plt.figure(figsize=(1,1))\n",
        "plt.imshow(train_images[100])\n",
        "plt. show()"
      ],
      "metadata": {
        "colab": {
          "base_uri": "https://localhost:8080/",
          "height": 123
        },
        "id": "q_STby__gcpD",
        "outputId": "b4353c5d-766f-4264-e371-2c7358e620a0"
      },
      "execution_count": 14,
      "outputs": [
        {
          "output_type": "stream",
          "name": "stdout",
          "text": [
            "Category: 8\n"
          ]
        },
        {
          "output_type": "display_data",
          "data": {
            "text/plain": [
              "<Figure size 72x72 with 1 Axes>"
            ],
            "image/png": "[encoded data removed]"
          },
          "metadata": {
            "needs_background": "light"
          }
        }
      ]
    },
    {
      "cell_type": "code",
      "source": [
        "!pip install requests"
      ],
      "metadata": {
        "colab": {
          "base_uri": "https://localhost:8080/"
        },
        "id": "r6RMK3CYg7Qb",
        "outputId": "8e29c893-962b-4dc5-a947-006214b9ecfc"
      },
      "execution_count": 15,
      "outputs": [
        {
          "output_type": "stream",
          "name": "stdout",
          "text": [
            "Looking in indexes: https://pypi.org/simple, https://us-python.pkg.dev/colab-wheels/public/simple/\n",
            "Requirement already satisfied: requests in /usr/local/lib/python3.7/dist-packages (2.23.0)\n",
            "Requirement already satisfied: chardet<4,>=3.0.2 in /usr/local/lib/python3.7/dist-packages (from requests) (3.0.4)\n",
            "Requirement already satisfied: urllib3!=1.25.0,!=1.25.1,<1.26,>=1.21.1 in /usr/local/lib/python3.7/dist-packages (from requests) (1.24.3)\n",
            "Requirement already satisfied: certifi>=2017.4.17 in /usr/local/lib/python3.7/dist-packages (from requests) (2022.9.24)\n",
            "Requirement already satisfied: idna<3,>=2.5 in /usr/local/lib/python3.7/dist-packages (from requests) (2.10)\n"
          ]
        }
      ]
    },
    {
      "cell_type": "code",
      "source": [
        "import requests\n",
        "# Save datagenerators as file to colab working directory\n",
        "# If you are using GitHub, make sure you get the \"Raw\" version of the code\n",
        "url = 'https://raw.githubusercontent.com/NVDLI/LDL/main/pt_framework/utilities.py'\n",
        "r= requests.get(url)\n",
        "# make sure your filename is the same as how you want to import\n",
        "with open('utilities.py', 'w') as f:\n",
        "   f.write(r.text)"
      ],
      "metadata": {
        "id": "TwabeSeTfLgi"
      },
      "execution_count": 30,
      "outputs": []
    },
    {
      "cell_type": "code",
      "source": [
        "import torch\n",
        "import torch.nn as nn\n",
        "import torchvision\n",
        "import torchvision.transforms as transforms\n",
        "from torchvision.datasets import CIFAR10\n",
        "from torch.utils.data import DataLoader\n",
        "import numpy as np\n",
        "from utilities import train_model\n",
        "\n",
        "device = torch.device (\"cuda:0\" if torch.cuda.is_available() else \"cpu\")\n",
        "EPOCHS = 128\n",
        "BATCH_SIZE = 32\n",
        "# Load training dataset into a single batch to compute mean and stddev.\n",
        "transform = transforms.Compose([transforms. ToTensor()])\n",
        "trainset = CIFAR10(root= './pt_data', train=True, download=True, transform=transform)\n",
        "trainloader = DataLoader(trainset, batch_size=len(trainset), shuffle=False)\n",
        "data = next(iter(trainloader))\n",
        "mean = data[0].mean()\n",
        "stddev = data[0].std()"
      ],
      "metadata": {
        "colab": {
          "base_uri": "https://localhost:8080/"
        },
        "id": "R68bGrp6hm6u",
        "outputId": "f79248f4-737a-443b-c002-e3bbf55a46e7"
      },
      "execution_count": 33,
      "outputs": [
        {
          "output_type": "stream",
          "name": "stdout",
          "text": [
            "Files already downloaded and verified\n"
          ]
        }
      ]
    },
    {
      "cell_type": "code",
      "source": [
        "# Load and standardize training and test dataset.\n",
        "transform = transforms.Compose([transforms.ToTensor(),transforms.Normalize(mean, stddev)])\n",
        "\n",
        "trainset = CIFAR10(root='. /pt_data', train=True, download=True, transform=transform)\n",
        "testset = CIFAR10(root='./pt_data', train=False, download=True, transform=transform)\n",
        "\n",
        "# Model with 2 convolutional and 1 fully-connected layer.\n",
        "model = nn.Sequential(\n",
        "    nn. Conv2d(3, 64, 5, stride=2, padding=2), # Output is 64x16x16.\n",
        "    nn.ReLU(),\n",
        "    nn.Conv2d(64, 64, 3, stride=2, padding=1), # Output is 64x8x8.\n",
        "    nn.ReLU(),\n",
        "    nn.Flatten(),\n",
        "    nn. Linear (64 * 8 * 8, 10)\n",
        ")"
      ],
      "metadata": {
        "colab": {
          "base_uri": "https://localhost:8080/"
        },
        "id": "2A045Psljxli",
        "outputId": "8bc617f5-606d-40c3-a09a-2c422d250012"
      },
      "execution_count": 37,
      "outputs": [
        {
          "output_type": "stream",
          "name": "stdout",
          "text": [
            "Files already downloaded and verified\n",
            "Files already downloaded and verified\n"
          ]
        }
      ]
    },
    {
      "cell_type": "code",
      "source": [
        "# Retrieve layers for custom weight initialization.\n",
        "layers = next(model. modules())\n",
        "conv_layer0 = layers[0]\n",
        "conv_layer1 = layers[2]\n",
        "output_layer = layers[5]\n",
        "\n",
        "#Kaiming (He) initialization.\n",
        "nn.init.kaiming_normal_(conv_layer0.weight)\n",
        "nn.init.constant_(conv_layer0.bias, 0.0)\n",
        "nn.init.kaiming_normal_(conv_layer1.weight)\n",
        "nn.init.constant_(conv_layer1.bias,0.0)\n",
        "\n",
        "# Xavier (Glorot) initialization.\n",
        "nn.init.xavier_uniform_(output_layer.weight)\n",
        "nn.init.constant_(output_layer.bias, 0.0)\n",
        "\n",
        "# Loss function and optimizer\n",
        "optimizer=torch.optim.Adam(model.parameters())\n",
        "loss_function = nn.CrossEntropyLoss()\n",
        "\n",
        "# Train the model.\n",
        "train_model(model, device, EPOCHS, BATCH_SIZE, trainset, testset, optimizer, loss_function,'acc')"
      ],
      "metadata": {
        "colab": {
          "base_uri": "https://localhost:8080/"
        },
        "id": "WAMc9Ub0hxNw",
        "outputId": "4895bd1d-c479-487a-959d-dd1a30562f0f"
      },
      "execution_count": null,
      "outputs": [
        {
          "output_type": "stream",
          "name": "stdout",
          "text": [
            "Epoch 1/128 loss: 1.4080 - acc: 0.5055 - val_loss: 1.1872 - val_acc: 0.5794\n",
            "Epoch 2/128 loss: 1.0716 - acc: 0.6267 - val_loss: 1.0648 - val_acc: 0.6284\n",
            "Epoch 3/128 loss: 0.9252 - acc: 0.6802 - val_loss: 1.0593 - val_acc: 0.6363\n",
            "Epoch 4/128 loss: 0.8215 - acc: 0.7157 - val_loss: 1.0683 - val_acc: 0.6405\n",
            "Epoch 5/128 loss: 0.7439 - acc: 0.7416 - val_loss: 1.0616 - val_acc: 0.6547\n",
            "Epoch 6/128 loss: 0.6696 - acc: 0.7679 - val_loss: 1.1164 - val_acc: 0.6415\n",
            "Epoch 7/128 loss: 0.6092 - acc: 0.7864 - val_loss: 1.1538 - val_acc: 0.6393\n",
            "Epoch 8/128 loss: 0.5549 - acc: 0.8060 - val_loss: 1.2148 - val_acc: 0.6338\n",
            "Epoch 9/128 loss: 0.5055 - acc: 0.8225 - val_loss: 1.2900 - val_acc: 0.6326\n",
            "Epoch 10/128 loss: 0.4604 - acc: 0.8379 - val_loss: 1.3285 - val_acc: 0.6271\n",
            "Epoch 11/128 loss: 0.4263 - acc: 0.8472 - val_loss: 1.4386 - val_acc: 0.6360\n",
            "Epoch 12/128 loss: 0.3955 - acc: 0.8611 - val_loss: 1.4648 - val_acc: 0.6378\n",
            "Epoch 13/128 loss: 0.3625 - acc: 0.8692 - val_loss: 1.5863 - val_acc: 0.6264\n",
            "Epoch 14/128 loss: 0.3348 - acc: 0.8806 - val_loss: 1.6612 - val_acc: 0.6267\n",
            "Epoch 15/128 loss: 0.3122 - acc: 0.8867 - val_loss: 1.7326 - val_acc: 0.6264\n",
            "Epoch 16/128 loss: 0.2897 - acc: 0.8953 - val_loss: 1.8542 - val_acc: 0.6230\n",
            "Epoch 17/128 loss: 0.2704 - acc: 0.9024 - val_loss: 1.9370 - val_acc: 0.6241\n",
            "Epoch 18/128 loss: 0.2478 - acc: 0.9098 - val_loss: 2.0512 - val_acc: 0.6251\n",
            "Epoch 19/128 loss: 0.2429 - acc: 0.9112 - val_loss: 2.1035 - val_acc: 0.6190\n",
            "Epoch 20/128 loss: 0.2305 - acc: 0.9164 - val_loss: 2.2202 - val_acc: 0.6224\n",
            "Epoch 21/128 loss: 0.2112 - acc: 0.9229 - val_loss: 2.3497 - val_acc: 0.6186\n",
            "Epoch 22/128 loss: 0.2050 - acc: 0.9257 - val_loss: 2.4241 - val_acc: 0.6173\n",
            "Epoch 23/128 loss: 0.1980 - acc: 0.9277 - val_loss: 2.5886 - val_acc: 0.6162\n",
            "Epoch 24/128 loss: 0.1888 - acc: 0.9310 - val_loss: 2.7063 - val_acc: 0.6149\n",
            "Epoch 25/128 loss: 0.1825 - acc: 0.9347 - val_loss: 2.7603 - val_acc: 0.6159\n",
            "Epoch 26/128 loss: 0.1815 - acc: 0.9354 - val_loss: 2.8255 - val_acc: 0.6118\n",
            "Epoch 27/128 loss: 0.1737 - acc: 0.9389 - val_loss: 2.9558 - val_acc: 0.6135\n",
            "Epoch 28/128 loss: 0.1608 - acc: 0.9420 - val_loss: 3.0181 - val_acc: 0.6120\n",
            "Epoch 29/128 loss: 0.1697 - acc: 0.9402 - val_loss: 3.1573 - val_acc: 0.6082\n",
            "Epoch 30/128 loss: 0.1611 - acc: 0.9434 - val_loss: 3.3246 - val_acc: 0.6135\n",
            "Epoch 31/128 loss: 0.1573 - acc: 0.9452 - val_loss: 3.3883 - val_acc: 0.6096\n",
            "Epoch 32/128 loss: 0.1555 - acc: 0.9457 - val_loss: 3.4958 - val_acc: 0.6091\n",
            "Epoch 33/128 loss: 0.1497 - acc: 0.9485 - val_loss: 3.5323 - val_acc: 0.6054\n",
            "Epoch 34/128 loss: 0.1539 - acc: 0.9477 - val_loss: 3.6105 - val_acc: 0.6101\n",
            "Epoch 35/128 loss: 0.1492 - acc: 0.9496 - val_loss: 3.7061 - val_acc: 0.6140\n",
            "Epoch 36/128 loss: 0.1458 - acc: 0.9503 - val_loss: 3.7763 - val_acc: 0.6096\n",
            "Epoch 37/128 loss: 0.1436 - acc: 0.9516 - val_loss: 4.0117 - val_acc: 0.6123\n"
          ]
        }
      ]
    }
  ]
}